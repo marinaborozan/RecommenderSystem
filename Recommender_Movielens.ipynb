{
  "nbformat": 4,
  "nbformat_minor": 0,
  "metadata": {
    "colab": {
      "name": "Recommender_Movielens.ipynb",
      "provenance": [],
      "collapsed_sections": []
    },
    "kernelspec": {
      "name": "python3",
      "display_name": "Python 3"
    },
    "language_info": {
      "name": "python"
    }
  },
  "cells": [
    {
      "cell_type": "code",
      "metadata": {
        "id": "nSqPOk0UzJzc"
      },
      "source": [
        "import pandas as pd\n",
        "import numpy as np\n",
        "from sklearn.feature_extraction.text import TfidfVectorizer\n",
        "from sklearn.metrics.pairwise import cosine_similarity\n",
        "from scipy.sparse import csr_matrix"
      ],
      "execution_count": 99,
      "outputs": []
    },
    {
      "cell_type": "markdown",
      "metadata": {
        "id": "h6FFrSfu3A1N"
      },
      "source": [
        "Prvi recommender: content - based"
      ]
    },
    {
      "cell_type": "code",
      "metadata": {
        "colab": {
          "base_uri": "https://localhost:8080/",
          "height": 198
        },
        "id": "sKqSri2M3hqd",
        "outputId": "640581e0-4aed-4168-e7f9-ebc4317ae968"
      },
      "source": [
        "movies = pd.read_csv('https://raw.githubusercontent.com/marinaborozan/RecommenderSystem/main/movies.csv')\n",
        "movies.head()"
      ],
      "execution_count": 100,
      "outputs": [
        {
          "output_type": "execute_result",
          "data": {
            "text/html": [
              "<div>\n",
              "<style scoped>\n",
              "    .dataframe tbody tr th:only-of-type {\n",
              "        vertical-align: middle;\n",
              "    }\n",
              "\n",
              "    .dataframe tbody tr th {\n",
              "        vertical-align: top;\n",
              "    }\n",
              "\n",
              "    .dataframe thead th {\n",
              "        text-align: right;\n",
              "    }\n",
              "</style>\n",
              "<table border=\"1\" class=\"dataframe\">\n",
              "  <thead>\n",
              "    <tr style=\"text-align: right;\">\n",
              "      <th></th>\n",
              "      <th>movieId</th>\n",
              "      <th>title</th>\n",
              "      <th>genres</th>\n",
              "    </tr>\n",
              "  </thead>\n",
              "  <tbody>\n",
              "    <tr>\n",
              "      <th>0</th>\n",
              "      <td>1</td>\n",
              "      <td>Toy Story (1995)</td>\n",
              "      <td>Adventure|Animation|Children|Comedy|Fantasy</td>\n",
              "    </tr>\n",
              "    <tr>\n",
              "      <th>1</th>\n",
              "      <td>2</td>\n",
              "      <td>Jumanji (1995)</td>\n",
              "      <td>Adventure|Children|Fantasy</td>\n",
              "    </tr>\n",
              "    <tr>\n",
              "      <th>2</th>\n",
              "      <td>3</td>\n",
              "      <td>Grumpier Old Men (1995)</td>\n",
              "      <td>Comedy|Romance</td>\n",
              "    </tr>\n",
              "    <tr>\n",
              "      <th>3</th>\n",
              "      <td>4</td>\n",
              "      <td>Waiting to Exhale (1995)</td>\n",
              "      <td>Comedy|Drama|Romance</td>\n",
              "    </tr>\n",
              "    <tr>\n",
              "      <th>4</th>\n",
              "      <td>5</td>\n",
              "      <td>Father of the Bride Part II (1995)</td>\n",
              "      <td>Comedy</td>\n",
              "    </tr>\n",
              "  </tbody>\n",
              "</table>\n",
              "</div>"
            ],
            "text/plain": [
              "   movieId  ...                                       genres\n",
              "0        1  ...  Adventure|Animation|Children|Comedy|Fantasy\n",
              "1        2  ...                   Adventure|Children|Fantasy\n",
              "2        3  ...                               Comedy|Romance\n",
              "3        4  ...                         Comedy|Drama|Romance\n",
              "4        5  ...                                       Comedy\n",
              "\n",
              "[5 rows x 3 columns]"
            ]
          },
          "metadata": {
            "tags": []
          },
          "execution_count": 100
        }
      ]
    },
    {
      "cell_type": "code",
      "metadata": {
        "colab": {
          "base_uri": "https://localhost:8080/",
          "height": 198
        },
        "id": "TKY6VSed4AEa",
        "outputId": "4ad928c9-3472-4a71-bf9f-e89cb5a3e08e"
      },
      "source": [
        "ratings = pd.read_csv('https://raw.githubusercontent.com/marinaborozan/RecommenderSystem/main/ratings.csv')\n",
        "ratings.head()"
      ],
      "execution_count": 101,
      "outputs": [
        {
          "output_type": "execute_result",
          "data": {
            "text/html": [
              "<div>\n",
              "<style scoped>\n",
              "    .dataframe tbody tr th:only-of-type {\n",
              "        vertical-align: middle;\n",
              "    }\n",
              "\n",
              "    .dataframe tbody tr th {\n",
              "        vertical-align: top;\n",
              "    }\n",
              "\n",
              "    .dataframe thead th {\n",
              "        text-align: right;\n",
              "    }\n",
              "</style>\n",
              "<table border=\"1\" class=\"dataframe\">\n",
              "  <thead>\n",
              "    <tr style=\"text-align: right;\">\n",
              "      <th></th>\n",
              "      <th>userId</th>\n",
              "      <th>movieId</th>\n",
              "      <th>rating</th>\n",
              "      <th>timestamp</th>\n",
              "    </tr>\n",
              "  </thead>\n",
              "  <tbody>\n",
              "    <tr>\n",
              "      <th>0</th>\n",
              "      <td>1</td>\n",
              "      <td>1</td>\n",
              "      <td>4.0</td>\n",
              "      <td>964982703</td>\n",
              "    </tr>\n",
              "    <tr>\n",
              "      <th>1</th>\n",
              "      <td>1</td>\n",
              "      <td>3</td>\n",
              "      <td>4.0</td>\n",
              "      <td>964981247</td>\n",
              "    </tr>\n",
              "    <tr>\n",
              "      <th>2</th>\n",
              "      <td>1</td>\n",
              "      <td>6</td>\n",
              "      <td>4.0</td>\n",
              "      <td>964982224</td>\n",
              "    </tr>\n",
              "    <tr>\n",
              "      <th>3</th>\n",
              "      <td>1</td>\n",
              "      <td>47</td>\n",
              "      <td>5.0</td>\n",
              "      <td>964983815</td>\n",
              "    </tr>\n",
              "    <tr>\n",
              "      <th>4</th>\n",
              "      <td>1</td>\n",
              "      <td>50</td>\n",
              "      <td>5.0</td>\n",
              "      <td>964982931</td>\n",
              "    </tr>\n",
              "  </tbody>\n",
              "</table>\n",
              "</div>"
            ],
            "text/plain": [
              "   userId  movieId  rating  timestamp\n",
              "0       1        1     4.0  964982703\n",
              "1       1        3     4.0  964981247\n",
              "2       1        6     4.0  964982224\n",
              "3       1       47     5.0  964983815\n",
              "4       1       50     5.0  964982931"
            ]
          },
          "metadata": {
            "tags": []
          },
          "execution_count": 101
        }
      ]
    },
    {
      "cell_type": "code",
      "metadata": {
        "colab": {
          "base_uri": "https://localhost:8080/",
          "height": 285
        },
        "id": "v9I1hZw0PxZB",
        "outputId": "838a7bb8-799c-46a8-e3ed-34dc82819658"
      },
      "source": [
        "#TMDB dataset sa overview i keywords podacima za svaki film \n",
        "columns = ['id','keywords','original_title','overview','tagline','title','vote_average','vote_count']\n",
        "tmdb_movies = pd.read_csv('https://raw.githubusercontent.com/marinaborozan/RecommenderSystem/main/tmdb_5000_movies.csv', usecols = columns)\n",
        "tmdb_movies.head()"
      ],
      "execution_count": 102,
      "outputs": [
        {
          "output_type": "execute_result",
          "data": {
            "text/html": [
              "<div>\n",
              "<style scoped>\n",
              "    .dataframe tbody tr th:only-of-type {\n",
              "        vertical-align: middle;\n",
              "    }\n",
              "\n",
              "    .dataframe tbody tr th {\n",
              "        vertical-align: top;\n",
              "    }\n",
              "\n",
              "    .dataframe thead th {\n",
              "        text-align: right;\n",
              "    }\n",
              "</style>\n",
              "<table border=\"1\" class=\"dataframe\">\n",
              "  <thead>\n",
              "    <tr style=\"text-align: right;\">\n",
              "      <th></th>\n",
              "      <th>id</th>\n",
              "      <th>keywords</th>\n",
              "      <th>original_title</th>\n",
              "      <th>overview</th>\n",
              "      <th>tagline</th>\n",
              "      <th>title</th>\n",
              "      <th>vote_average</th>\n",
              "      <th>vote_count</th>\n",
              "    </tr>\n",
              "  </thead>\n",
              "  <tbody>\n",
              "    <tr>\n",
              "      <th>0</th>\n",
              "      <td>19995</td>\n",
              "      <td>[{\"id\": 1463, \"name\": \"culture clash\"}, {\"id\":...</td>\n",
              "      <td>Avatar</td>\n",
              "      <td>In the 22nd century, a paraplegic Marine is di...</td>\n",
              "      <td>Enter the World of Pandora.</td>\n",
              "      <td>Avatar</td>\n",
              "      <td>7.2</td>\n",
              "      <td>11800</td>\n",
              "    </tr>\n",
              "    <tr>\n",
              "      <th>1</th>\n",
              "      <td>285</td>\n",
              "      <td>[{\"id\": 270, \"name\": \"ocean\"}, {\"id\": 726, \"na...</td>\n",
              "      <td>Pirates of the Caribbean: At World's End</td>\n",
              "      <td>Captain Barbossa, long believed to be dead, ha...</td>\n",
              "      <td>At the end of the world, the adventure begins.</td>\n",
              "      <td>Pirates of the Caribbean: At World's End</td>\n",
              "      <td>6.9</td>\n",
              "      <td>4500</td>\n",
              "    </tr>\n",
              "    <tr>\n",
              "      <th>2</th>\n",
              "      <td>206647</td>\n",
              "      <td>[{\"id\": 470, \"name\": \"spy\"}, {\"id\": 818, \"name...</td>\n",
              "      <td>Spectre</td>\n",
              "      <td>A cryptic message from Bond’s past sends him o...</td>\n",
              "      <td>A Plan No One Escapes</td>\n",
              "      <td>Spectre</td>\n",
              "      <td>6.3</td>\n",
              "      <td>4466</td>\n",
              "    </tr>\n",
              "    <tr>\n",
              "      <th>3</th>\n",
              "      <td>49026</td>\n",
              "      <td>[{\"id\": 849, \"name\": \"dc comics\"}, {\"id\": 853,...</td>\n",
              "      <td>The Dark Knight Rises</td>\n",
              "      <td>Following the death of District Attorney Harve...</td>\n",
              "      <td>The Legend Ends</td>\n",
              "      <td>The Dark Knight Rises</td>\n",
              "      <td>7.6</td>\n",
              "      <td>9106</td>\n",
              "    </tr>\n",
              "    <tr>\n",
              "      <th>4</th>\n",
              "      <td>49529</td>\n",
              "      <td>[{\"id\": 818, \"name\": \"based on novel\"}, {\"id\":...</td>\n",
              "      <td>John Carter</td>\n",
              "      <td>John Carter is a war-weary, former military ca...</td>\n",
              "      <td>Lost in our world, found in another.</td>\n",
              "      <td>John Carter</td>\n",
              "      <td>6.1</td>\n",
              "      <td>2124</td>\n",
              "    </tr>\n",
              "  </tbody>\n",
              "</table>\n",
              "</div>"
            ],
            "text/plain": [
              "       id  ... vote_count\n",
              "0   19995  ...      11800\n",
              "1     285  ...       4500\n",
              "2  206647  ...       4466\n",
              "3   49026  ...       9106\n",
              "4   49529  ...       2124\n",
              "\n",
              "[5 rows x 8 columns]"
            ]
          },
          "metadata": {
            "tags": []
          },
          "execution_count": 102
        }
      ]
    },
    {
      "cell_type": "code",
      "metadata": {
        "colab": {
          "base_uri": "https://localhost:8080/"
        },
        "id": "8ie6xWOnMmSR",
        "outputId": "f79cb582-db1d-4d28-e2dd-1e2ebe010120"
      },
      "source": [
        "tmdb_movies.shape"
      ],
      "execution_count": 103,
      "outputs": [
        {
          "output_type": "execute_result",
          "data": {
            "text/plain": [
              "(4803, 8)"
            ]
          },
          "metadata": {
            "tags": []
          },
          "execution_count": 103
        }
      ]
    },
    {
      "cell_type": "code",
      "metadata": {
        "colab": {
          "base_uri": "https://localhost:8080/",
          "height": 198
        },
        "id": "QpaHTV0CRa5u",
        "outputId": "061c4c31-f784-4060-fec3-730b056d537b"
      },
      "source": [
        "#samo kolone koje koristim\n",
        "content_df_tmdb = tmdb_movies[['id', 'title', 'keywords', 'overview']]\n",
        "content_df_tmdb.head()"
      ],
      "execution_count": 104,
      "outputs": [
        {
          "output_type": "execute_result",
          "data": {
            "text/html": [
              "<div>\n",
              "<style scoped>\n",
              "    .dataframe tbody tr th:only-of-type {\n",
              "        vertical-align: middle;\n",
              "    }\n",
              "\n",
              "    .dataframe tbody tr th {\n",
              "        vertical-align: top;\n",
              "    }\n",
              "\n",
              "    .dataframe thead th {\n",
              "        text-align: right;\n",
              "    }\n",
              "</style>\n",
              "<table border=\"1\" class=\"dataframe\">\n",
              "  <thead>\n",
              "    <tr style=\"text-align: right;\">\n",
              "      <th></th>\n",
              "      <th>id</th>\n",
              "      <th>title</th>\n",
              "      <th>keywords</th>\n",
              "      <th>overview</th>\n",
              "    </tr>\n",
              "  </thead>\n",
              "  <tbody>\n",
              "    <tr>\n",
              "      <th>0</th>\n",
              "      <td>19995</td>\n",
              "      <td>Avatar</td>\n",
              "      <td>[{\"id\": 1463, \"name\": \"culture clash\"}, {\"id\":...</td>\n",
              "      <td>In the 22nd century, a paraplegic Marine is di...</td>\n",
              "    </tr>\n",
              "    <tr>\n",
              "      <th>1</th>\n",
              "      <td>285</td>\n",
              "      <td>Pirates of the Caribbean: At World's End</td>\n",
              "      <td>[{\"id\": 270, \"name\": \"ocean\"}, {\"id\": 726, \"na...</td>\n",
              "      <td>Captain Barbossa, long believed to be dead, ha...</td>\n",
              "    </tr>\n",
              "    <tr>\n",
              "      <th>2</th>\n",
              "      <td>206647</td>\n",
              "      <td>Spectre</td>\n",
              "      <td>[{\"id\": 470, \"name\": \"spy\"}, {\"id\": 818, \"name...</td>\n",
              "      <td>A cryptic message from Bond’s past sends him o...</td>\n",
              "    </tr>\n",
              "    <tr>\n",
              "      <th>3</th>\n",
              "      <td>49026</td>\n",
              "      <td>The Dark Knight Rises</td>\n",
              "      <td>[{\"id\": 849, \"name\": \"dc comics\"}, {\"id\": 853,...</td>\n",
              "      <td>Following the death of District Attorney Harve...</td>\n",
              "    </tr>\n",
              "    <tr>\n",
              "      <th>4</th>\n",
              "      <td>49529</td>\n",
              "      <td>John Carter</td>\n",
              "      <td>[{\"id\": 818, \"name\": \"based on novel\"}, {\"id\":...</td>\n",
              "      <td>John Carter is a war-weary, former military ca...</td>\n",
              "    </tr>\n",
              "  </tbody>\n",
              "</table>\n",
              "</div>"
            ],
            "text/plain": [
              "       id  ...                                           overview\n",
              "0   19995  ...  In the 22nd century, a paraplegic Marine is di...\n",
              "1     285  ...  Captain Barbossa, long believed to be dead, ha...\n",
              "2  206647  ...  A cryptic message from Bond’s past sends him o...\n",
              "3   49026  ...  Following the death of District Attorney Harve...\n",
              "4   49529  ...  John Carter is a war-weary, former military ca...\n",
              "\n",
              "[5 rows x 4 columns]"
            ]
          },
          "metadata": {
            "tags": []
          },
          "execution_count": 104
        }
      ]
    },
    {
      "cell_type": "code",
      "metadata": {
        "id": "IWeAppEoVsXF"
      },
      "source": [
        "#funkcija za dobijanje keyworda iz kolone\n",
        "import ast\n",
        "def extract_keywords(keywords_string):\n",
        "  keywords_list = ast.literal_eval(keywords_string)\n",
        "  result = \"\"\n",
        "  for dictionary in keywords_list:\n",
        "    result += dictionary['name']\n",
        "    result += \" \" \n",
        "  return result[:-1]"
      ],
      "execution_count": 105,
      "outputs": []
    },
    {
      "cell_type": "code",
      "metadata": {
        "colab": {
          "base_uri": "https://localhost:8080/",
          "height": 35
        },
        "id": "fmFp6eNSXGNA",
        "outputId": "a9218c0d-aa03-4781-c4b4-6e69144694be"
      },
      "source": [
        "#provera kako radi\n",
        "extract_keywords(content_df_tmdb.iloc[0].keywords)"
      ],
      "execution_count": 106,
      "outputs": [
        {
          "output_type": "execute_result",
          "data": {
            "application/vnd.google.colaboratory.intrinsic+json": {
              "type": "string"
            },
            "text/plain": [
              "'culture clash future space war space colony society space travel futuristic romance space alien tribe alien planet cgi marine soldier battle love affair anti war power relations mind and soul 3d'"
            ]
          },
          "metadata": {
            "tags": []
          },
          "execution_count": 106
        }
      ]
    },
    {
      "cell_type": "code",
      "metadata": {
        "colab": {
          "base_uri": "https://localhost:8080/",
          "height": 398
        },
        "id": "xmob80EJVPeH",
        "outputId": "42fd2316-3ad9-4fb7-be08-2a0786abdb52"
      },
      "source": [
        "content_df_tmdb['word_document'] = content_df_tmdb['keywords'].apply(lambda x: extract_keywords(x)) + content_df_tmdb['overview']\n",
        "content_df_tmdb.drop(columns=['keywords','overview'], inplace=True)\n",
        "content_df_tmdb.head()"
      ],
      "execution_count": 107,
      "outputs": [
        {
          "output_type": "stream",
          "text": [
            "/usr/local/lib/python3.7/dist-packages/ipykernel_launcher.py:1: SettingWithCopyWarning: \n",
            "A value is trying to be set on a copy of a slice from a DataFrame.\n",
            "Try using .loc[row_indexer,col_indexer] = value instead\n",
            "\n",
            "See the caveats in the documentation: https://pandas.pydata.org/pandas-docs/stable/user_guide/indexing.html#returning-a-view-versus-a-copy\n",
            "  \"\"\"Entry point for launching an IPython kernel.\n",
            "/usr/local/lib/python3.7/dist-packages/pandas/core/frame.py:4174: SettingWithCopyWarning: \n",
            "A value is trying to be set on a copy of a slice from a DataFrame\n",
            "\n",
            "See the caveats in the documentation: https://pandas.pydata.org/pandas-docs/stable/user_guide/indexing.html#returning-a-view-versus-a-copy\n",
            "  errors=errors,\n"
          ],
          "name": "stderr"
        },
        {
          "output_type": "execute_result",
          "data": {
            "text/html": [
              "<div>\n",
              "<style scoped>\n",
              "    .dataframe tbody tr th:only-of-type {\n",
              "        vertical-align: middle;\n",
              "    }\n",
              "\n",
              "    .dataframe tbody tr th {\n",
              "        vertical-align: top;\n",
              "    }\n",
              "\n",
              "    .dataframe thead th {\n",
              "        text-align: right;\n",
              "    }\n",
              "</style>\n",
              "<table border=\"1\" class=\"dataframe\">\n",
              "  <thead>\n",
              "    <tr style=\"text-align: right;\">\n",
              "      <th></th>\n",
              "      <th>id</th>\n",
              "      <th>title</th>\n",
              "      <th>word_document</th>\n",
              "    </tr>\n",
              "  </thead>\n",
              "  <tbody>\n",
              "    <tr>\n",
              "      <th>0</th>\n",
              "      <td>19995</td>\n",
              "      <td>Avatar</td>\n",
              "      <td>culture clash future space war space colony so...</td>\n",
              "    </tr>\n",
              "    <tr>\n",
              "      <th>1</th>\n",
              "      <td>285</td>\n",
              "      <td>Pirates of the Caribbean: At World's End</td>\n",
              "      <td>ocean drug abuse exotic island east india trad...</td>\n",
              "    </tr>\n",
              "    <tr>\n",
              "      <th>2</th>\n",
              "      <td>206647</td>\n",
              "      <td>Spectre</td>\n",
              "      <td>spy based on novel secret agent sequel mi6 bri...</td>\n",
              "    </tr>\n",
              "    <tr>\n",
              "      <th>3</th>\n",
              "      <td>49026</td>\n",
              "      <td>The Dark Knight Rises</td>\n",
              "      <td>dc comics crime fighter terrorist secret ident...</td>\n",
              "    </tr>\n",
              "    <tr>\n",
              "      <th>4</th>\n",
              "      <td>49529</td>\n",
              "      <td>John Carter</td>\n",
              "      <td>based on novel mars medallion space travel pri...</td>\n",
              "    </tr>\n",
              "  </tbody>\n",
              "</table>\n",
              "</div>"
            ],
            "text/plain": [
              "       id  ...                                      word_document\n",
              "0   19995  ...  culture clash future space war space colony so...\n",
              "1     285  ...  ocean drug abuse exotic island east india trad...\n",
              "2  206647  ...  spy based on novel secret agent sequel mi6 bri...\n",
              "3   49026  ...  dc comics crime fighter terrorist secret ident...\n",
              "4   49529  ...  based on novel mars medallion space travel pri...\n",
              "\n",
              "[5 rows x 3 columns]"
            ]
          },
          "metadata": {
            "tags": []
          },
          "execution_count": 107
        }
      ]
    },
    {
      "cell_type": "code",
      "metadata": {
        "colab": {
          "base_uri": "https://localhost:8080/",
          "height": 198
        },
        "id": "PzRogLxGdBeZ",
        "outputId": "1a733770-883a-4556-fb1b-e298cc34621c"
      },
      "source": [
        "content_df_tmdb.reset_index(inplace=True)\n",
        "content_df_tmdb.head()"
      ],
      "execution_count": 108,
      "outputs": [
        {
          "output_type": "execute_result",
          "data": {
            "text/html": [
              "<div>\n",
              "<style scoped>\n",
              "    .dataframe tbody tr th:only-of-type {\n",
              "        vertical-align: middle;\n",
              "    }\n",
              "\n",
              "    .dataframe tbody tr th {\n",
              "        vertical-align: top;\n",
              "    }\n",
              "\n",
              "    .dataframe thead th {\n",
              "        text-align: right;\n",
              "    }\n",
              "</style>\n",
              "<table border=\"1\" class=\"dataframe\">\n",
              "  <thead>\n",
              "    <tr style=\"text-align: right;\">\n",
              "      <th></th>\n",
              "      <th>index</th>\n",
              "      <th>id</th>\n",
              "      <th>title</th>\n",
              "      <th>word_document</th>\n",
              "    </tr>\n",
              "  </thead>\n",
              "  <tbody>\n",
              "    <tr>\n",
              "      <th>0</th>\n",
              "      <td>0</td>\n",
              "      <td>19995</td>\n",
              "      <td>Avatar</td>\n",
              "      <td>culture clash future space war space colony so...</td>\n",
              "    </tr>\n",
              "    <tr>\n",
              "      <th>1</th>\n",
              "      <td>1</td>\n",
              "      <td>285</td>\n",
              "      <td>Pirates of the Caribbean: At World's End</td>\n",
              "      <td>ocean drug abuse exotic island east india trad...</td>\n",
              "    </tr>\n",
              "    <tr>\n",
              "      <th>2</th>\n",
              "      <td>2</td>\n",
              "      <td>206647</td>\n",
              "      <td>Spectre</td>\n",
              "      <td>spy based on novel secret agent sequel mi6 bri...</td>\n",
              "    </tr>\n",
              "    <tr>\n",
              "      <th>3</th>\n",
              "      <td>3</td>\n",
              "      <td>49026</td>\n",
              "      <td>The Dark Knight Rises</td>\n",
              "      <td>dc comics crime fighter terrorist secret ident...</td>\n",
              "    </tr>\n",
              "    <tr>\n",
              "      <th>4</th>\n",
              "      <td>4</td>\n",
              "      <td>49529</td>\n",
              "      <td>John Carter</td>\n",
              "      <td>based on novel mars medallion space travel pri...</td>\n",
              "    </tr>\n",
              "  </tbody>\n",
              "</table>\n",
              "</div>"
            ],
            "text/plain": [
              "   index  ...                                      word_document\n",
              "0      0  ...  culture clash future space war space colony so...\n",
              "1      1  ...  ocean drug abuse exotic island east india trad...\n",
              "2      2  ...  spy based on novel secret agent sequel mi6 bri...\n",
              "3      3  ...  dc comics crime fighter terrorist secret ident...\n",
              "4      4  ...  based on novel mars medallion space travel pri...\n",
              "\n",
              "[5 rows x 4 columns]"
            ]
          },
          "metadata": {
            "tags": []
          },
          "execution_count": 108
        }
      ]
    },
    {
      "cell_type": "code",
      "metadata": {
        "colab": {
          "base_uri": "https://localhost:8080/"
        },
        "id": "x0pIpXKBPhfr",
        "outputId": "1c3b0172-047d-44a4-b3b4-36bfba141ebc"
      },
      "source": [
        "print(content_df_tmdb.id.unique().shape[0])\n",
        "print(content_df_tmdb.title.unique().shape[0])"
      ],
      "execution_count": 109,
      "outputs": [
        {
          "output_type": "stream",
          "text": [
            "4803\n",
            "4800\n"
          ],
          "name": "stdout"
        }
      ]
    },
    {
      "cell_type": "code",
      "metadata": {
        "colab": {
          "base_uri": "https://localhost:8080/"
        },
        "id": "fnRtlL0lbDw7",
        "outputId": "a56df43c-e946-4f25-ea86-0f6244c2b1c6"
      },
      "source": [
        "#prvi parametar dimenzije je broj redova u datasetu, drugi parametar je broj jedinstvenih reci\n",
        "tfidf = TfidfVectorizer(stop_words='english')\n",
        "tfidf_matrix = tfidf.fit_transform(content_df_tmdb['word_document'].values.astype('U')) \n",
        "tfidf_matrix.shape"
      ],
      "execution_count": 110,
      "outputs": [
        {
          "output_type": "execute_result",
          "data": {
            "text/plain": [
              "(4803, 26312)"
            ]
          },
          "metadata": {
            "tags": []
          },
          "execution_count": 110
        }
      ]
    },
    {
      "cell_type": "code",
      "metadata": {
        "colab": {
          "base_uri": "https://localhost:8080/"
        },
        "id": "eDFrVExUeFCh",
        "outputId": "d43ef254-5ea5-41a1-ca0a-f396ddd279d1"
      },
      "source": [
        "#ovo ce biti matrica po indexima iz content df\n",
        "cosine_sim = cosine_similarity(tfidf_matrix)\n",
        "print(cosine_sim.shape) "
      ],
      "execution_count": 111,
      "outputs": [
        {
          "output_type": "stream",
          "text": [
            "(4803, 4803)\n"
          ],
          "name": "stdout"
        }
      ]
    },
    {
      "cell_type": "code",
      "metadata": {
        "id": "mnLBPPwHg67D"
      },
      "source": [
        "content_df_tmdb = content_df_tmdb.reset_index()\n",
        "titles = content_df_tmdb['title']\n",
        "indices_by_title = pd.Series(content_df_tmdb.index,index = content_df_tmdb['title'])"
      ],
      "execution_count": 112,
      "outputs": []
    },
    {
      "cell_type": "code",
      "metadata": {
        "colab": {
          "base_uri": "https://localhost:8080/"
        },
        "id": "5gEIwlx_1Q5s",
        "outputId": "f51060b3-d42f-4a4a-df2f-15937ddbd629"
      },
      "source": [
        "indices_by_title['John Carter']"
      ],
      "execution_count": 113,
      "outputs": [
        {
          "output_type": "execute_result",
          "data": {
            "text/plain": [
              "4"
            ]
          },
          "metadata": {
            "tags": []
          },
          "execution_count": 113
        }
      ]
    },
    {
      "cell_type": "code",
      "metadata": {
        "id": "ipNIwfrJCkTB"
      },
      "source": [
        "def get_top_15_similar(title, cosine_sim):\n",
        "    index = indices_by_title[title] \n",
        "    sim_scores = list(enumerate(cosine_sim[index]))\n",
        "    sim_scores = sorted(sim_scores,key=lambda x: x[1],reverse=True) \n",
        "    sim_scores = sim_scores[1:16]\n",
        "    movie_indices = [score[0] for score in sim_scores]\n",
        "    return pd.DataFrame(titles.iloc[movie_indices])"
      ],
      "execution_count": 114,
      "outputs": []
    },
    {
      "cell_type": "code",
      "metadata": {
        "colab": {
          "base_uri": "https://localhost:8080/",
          "height": 498
        },
        "id": "aBr7b-zeh9o9",
        "outputId": "0348f742-4546-4c1b-af2b-cb7f9f204b71"
      },
      "source": [
        "get_top_15_similar('Spectre', cosine_sim)"
      ],
      "execution_count": 115,
      "outputs": [
        {
          "output_type": "execute_result",
          "data": {
            "text/html": [
              "<div>\n",
              "<style scoped>\n",
              "    .dataframe tbody tr th:only-of-type {\n",
              "        vertical-align: middle;\n",
              "    }\n",
              "\n",
              "    .dataframe tbody tr th {\n",
              "        vertical-align: top;\n",
              "    }\n",
              "\n",
              "    .dataframe thead th {\n",
              "        text-align: right;\n",
              "    }\n",
              "</style>\n",
              "<table border=\"1\" class=\"dataframe\">\n",
              "  <thead>\n",
              "    <tr style=\"text-align: right;\">\n",
              "      <th></th>\n",
              "      <th>title</th>\n",
              "    </tr>\n",
              "  </thead>\n",
              "  <tbody>\n",
              "    <tr>\n",
              "      <th>1343</th>\n",
              "      <td>Never Say Never Again</td>\n",
              "    </tr>\n",
              "    <tr>\n",
              "      <th>3285</th>\n",
              "      <td>Restless</td>\n",
              "    </tr>\n",
              "    <tr>\n",
              "      <th>29</th>\n",
              "      <td>Skyfall</td>\n",
              "    </tr>\n",
              "    <tr>\n",
              "      <th>4339</th>\n",
              "      <td>Dr. No</td>\n",
              "    </tr>\n",
              "    <tr>\n",
              "      <th>3143</th>\n",
              "      <td>You Only Live Twice</td>\n",
              "    </tr>\n",
              "    <tr>\n",
              "      <th>4071</th>\n",
              "      <td>From Russia with Love</td>\n",
              "    </tr>\n",
              "    <tr>\n",
              "      <th>147</th>\n",
              "      <td>Die Another Day</td>\n",
              "    </tr>\n",
              "    <tr>\n",
              "      <th>3162</th>\n",
              "      <td>Thunderball</td>\n",
              "    </tr>\n",
              "    <tr>\n",
              "      <th>11</th>\n",
              "      <td>Quantum of Solace</td>\n",
              "    </tr>\n",
              "    <tr>\n",
              "      <th>3343</th>\n",
              "      <td>Live and Let Die</td>\n",
              "    </tr>\n",
              "    <tr>\n",
              "      <th>1713</th>\n",
              "      <td>For Your Eyes Only</td>\n",
              "    </tr>\n",
              "    <tr>\n",
              "      <th>3251</th>\n",
              "      <td>On Her Majesty's Secret Service</td>\n",
              "    </tr>\n",
              "    <tr>\n",
              "      <th>1743</th>\n",
              "      <td>Octopussy</td>\n",
              "    </tr>\n",
              "    <tr>\n",
              "      <th>3884</th>\n",
              "      <td>Goldfinger</td>\n",
              "    </tr>\n",
              "    <tr>\n",
              "      <th>944</th>\n",
              "      <td>Absolute Power</td>\n",
              "    </tr>\n",
              "  </tbody>\n",
              "</table>\n",
              "</div>"
            ],
            "text/plain": [
              "                                title\n",
              "1343            Never Say Never Again\n",
              "3285                         Restless\n",
              "29                            Skyfall\n",
              "4339                           Dr. No\n",
              "3143              You Only Live Twice\n",
              "4071            From Russia with Love\n",
              "147                   Die Another Day\n",
              "3162                      Thunderball\n",
              "11                  Quantum of Solace\n",
              "3343                 Live and Let Die\n",
              "1713               For Your Eyes Only\n",
              "3251  On Her Majesty's Secret Service\n",
              "1743                        Octopussy\n",
              "3884                       Goldfinger\n",
              "944                    Absolute Power"
            ]
          },
          "metadata": {
            "tags": []
          },
          "execution_count": 115
        }
      ]
    },
    {
      "cell_type": "code",
      "metadata": {
        "colab": {
          "base_uri": "https://localhost:8080/",
          "height": 498
        },
        "id": "28zZjY_WI0OE",
        "outputId": "0a7942da-d690-40a9-8e06-9c240ff882c7"
      },
      "source": [
        "get_top_15_similar('The Dark Knight Rises', cosine_sim)"
      ],
      "execution_count": 116,
      "outputs": [
        {
          "output_type": "execute_result",
          "data": {
            "text/html": [
              "<div>\n",
              "<style scoped>\n",
              "    .dataframe tbody tr th:only-of-type {\n",
              "        vertical-align: middle;\n",
              "    }\n",
              "\n",
              "    .dataframe tbody tr th {\n",
              "        vertical-align: top;\n",
              "    }\n",
              "\n",
              "    .dataframe thead th {\n",
              "        text-align: right;\n",
              "    }\n",
              "</style>\n",
              "<table border=\"1\" class=\"dataframe\">\n",
              "  <thead>\n",
              "    <tr style=\"text-align: right;\">\n",
              "      <th></th>\n",
              "      <th>title</th>\n",
              "    </tr>\n",
              "  </thead>\n",
              "  <tbody>\n",
              "    <tr>\n",
              "      <th>1359</th>\n",
              "      <td>Batman</td>\n",
              "    </tr>\n",
              "    <tr>\n",
              "      <th>428</th>\n",
              "      <td>Batman Returns</td>\n",
              "    </tr>\n",
              "    <tr>\n",
              "      <th>65</th>\n",
              "      <td>The Dark Knight</td>\n",
              "    </tr>\n",
              "    <tr>\n",
              "      <th>299</th>\n",
              "      <td>Batman Forever</td>\n",
              "    </tr>\n",
              "    <tr>\n",
              "      <th>119</th>\n",
              "      <td>Batman Begins</td>\n",
              "    </tr>\n",
              "    <tr>\n",
              "      <th>210</th>\n",
              "      <td>Batman &amp; Robin</td>\n",
              "    </tr>\n",
              "    <tr>\n",
              "      <th>9</th>\n",
              "      <td>Batman v Superman: Dawn of Justice</td>\n",
              "    </tr>\n",
              "    <tr>\n",
              "      <th>2507</th>\n",
              "      <td>Slow Burn</td>\n",
              "    </tr>\n",
              "    <tr>\n",
              "      <th>3819</th>\n",
              "      <td>Defendor</td>\n",
              "    </tr>\n",
              "    <tr>\n",
              "      <th>879</th>\n",
              "      <td>Law Abiding Citizen</td>\n",
              "    </tr>\n",
              "    <tr>\n",
              "      <th>3854</th>\n",
              "      <td>Batman: The Dark Knight Returns, Part 2</td>\n",
              "    </tr>\n",
              "    <tr>\n",
              "      <th>303</th>\n",
              "      <td>Catwoman</td>\n",
              "    </tr>\n",
              "    <tr>\n",
              "      <th>1664</th>\n",
              "      <td>Dead Man Down</td>\n",
              "    </tr>\n",
              "    <tr>\n",
              "      <th>238</th>\n",
              "      <td>Teenage Mutant Ninja Turtles</td>\n",
              "    </tr>\n",
              "    <tr>\n",
              "      <th>606</th>\n",
              "      <td>Blackhat</td>\n",
              "    </tr>\n",
              "  </tbody>\n",
              "</table>\n",
              "</div>"
            ],
            "text/plain": [
              "                                        title\n",
              "1359                                   Batman\n",
              "428                            Batman Returns\n",
              "65                            The Dark Knight\n",
              "299                            Batman Forever\n",
              "119                             Batman Begins\n",
              "210                            Batman & Robin\n",
              "9          Batman v Superman: Dawn of Justice\n",
              "2507                                Slow Burn\n",
              "3819                                 Defendor\n",
              "879                       Law Abiding Citizen\n",
              "3854  Batman: The Dark Knight Returns, Part 2\n",
              "303                                  Catwoman\n",
              "1664                            Dead Man Down\n",
              "238              Teenage Mutant Ninja Turtles\n",
              "606                                  Blackhat"
            ]
          },
          "metadata": {
            "tags": []
          },
          "execution_count": 116
        }
      ]
    },
    {
      "cell_type": "markdown",
      "metadata": {
        "id": "B1yku0Fu1vms"
      },
      "source": [
        "Prvi recommender - ishod: content - based recommender koji gleda slicnost opisa i kljucnih reci za film preporucuje vrlo slicne filmove po sadrzaju i zanru"
      ]
    },
    {
      "cell_type": "markdown",
      "metadata": {
        "id": "DNW6QH8G3zz6"
      },
      "source": [
        "Drugi recommender: collaborative, item-based, prema cosine_similarity matrici izracunatoj u prvom recommenderu i Pirsonovom koeficijentu - http://cs229.stanford.edu/proj2018/report/128.pdf\n",
        "\n",
        "*pitanje: ovde pise da se preko Pirs. koef. predvidja rejting ocene za neki film za content-based, ali posto se koristi matrica usera i itema, zar to nije collaborative, i to item-item?"
      ]
    },
    {
      "cell_type": "code",
      "metadata": {
        "colab": {
          "base_uri": "https://localhost:8080/",
          "height": 198
        },
        "id": "SirW2pZhKQm-",
        "outputId": "e7a03bb3-e8b9-4408-b197-399c7154f6e1"
      },
      "source": [
        "links = pd.read_csv('https://raw.githubusercontent.com/marinaborozan/RecommenderSystem/main/links.csv')\n",
        "links.head()"
      ],
      "execution_count": 117,
      "outputs": [
        {
          "output_type": "execute_result",
          "data": {
            "text/html": [
              "<div>\n",
              "<style scoped>\n",
              "    .dataframe tbody tr th:only-of-type {\n",
              "        vertical-align: middle;\n",
              "    }\n",
              "\n",
              "    .dataframe tbody tr th {\n",
              "        vertical-align: top;\n",
              "    }\n",
              "\n",
              "    .dataframe thead th {\n",
              "        text-align: right;\n",
              "    }\n",
              "</style>\n",
              "<table border=\"1\" class=\"dataframe\">\n",
              "  <thead>\n",
              "    <tr style=\"text-align: right;\">\n",
              "      <th></th>\n",
              "      <th>movieId</th>\n",
              "      <th>imdbId</th>\n",
              "      <th>tmdbId</th>\n",
              "    </tr>\n",
              "  </thead>\n",
              "  <tbody>\n",
              "    <tr>\n",
              "      <th>0</th>\n",
              "      <td>1</td>\n",
              "      <td>114709</td>\n",
              "      <td>862.0</td>\n",
              "    </tr>\n",
              "    <tr>\n",
              "      <th>1</th>\n",
              "      <td>2</td>\n",
              "      <td>113497</td>\n",
              "      <td>8844.0</td>\n",
              "    </tr>\n",
              "    <tr>\n",
              "      <th>2</th>\n",
              "      <td>3</td>\n",
              "      <td>113228</td>\n",
              "      <td>15602.0</td>\n",
              "    </tr>\n",
              "    <tr>\n",
              "      <th>3</th>\n",
              "      <td>4</td>\n",
              "      <td>114885</td>\n",
              "      <td>31357.0</td>\n",
              "    </tr>\n",
              "    <tr>\n",
              "      <th>4</th>\n",
              "      <td>5</td>\n",
              "      <td>113041</td>\n",
              "      <td>11862.0</td>\n",
              "    </tr>\n",
              "  </tbody>\n",
              "</table>\n",
              "</div>"
            ],
            "text/plain": [
              "   movieId  imdbId   tmdbId\n",
              "0        1  114709    862.0\n",
              "1        2  113497   8844.0\n",
              "2        3  113228  15602.0\n",
              "3        4  114885  31357.0\n",
              "4        5  113041  11862.0"
            ]
          },
          "metadata": {
            "tags": []
          },
          "execution_count": 117
        }
      ]
    },
    {
      "cell_type": "code",
      "metadata": {
        "colab": {
          "base_uri": "https://localhost:8080/"
        },
        "id": "GPzJzRnm8Bxc",
        "outputId": "29393e67-1adb-4d34-96ff-2482efb2acc8"
      },
      "source": [
        "print(links.shape)\n",
        "links.dropna(inplace=True)\n",
        "print(links.shape)"
      ],
      "execution_count": 118,
      "outputs": [
        {
          "output_type": "stream",
          "text": [
            "(9742, 3)\n",
            "(9734, 3)\n"
          ],
          "name": "stdout"
        }
      ]
    },
    {
      "cell_type": "code",
      "metadata": {
        "colab": {
          "base_uri": "https://localhost:8080/"
        },
        "id": "PrkVKWqu7tQ_",
        "outputId": "004623e4-4dc1-4f2b-eef2-6a9cd98c2412"
      },
      "source": [
        "links.tmdbId.isnull().sum()"
      ],
      "execution_count": 119,
      "outputs": [
        {
          "output_type": "execute_result",
          "data": {
            "text/plain": [
              "0"
            ]
          },
          "metadata": {
            "tags": []
          },
          "execution_count": 119
        }
      ]
    },
    {
      "cell_type": "code",
      "metadata": {
        "colab": {
          "base_uri": "https://localhost:8080/",
          "height": 198
        },
        "id": "9agd9lU78ypt",
        "outputId": "0bb20806-6aa8-431b-a544-23d3af34e510"
      },
      "source": [
        "links.tmdbId = links.tmdbId.astype(int)\n",
        "links.head()"
      ],
      "execution_count": 120,
      "outputs": [
        {
          "output_type": "execute_result",
          "data": {
            "text/html": [
              "<div>\n",
              "<style scoped>\n",
              "    .dataframe tbody tr th:only-of-type {\n",
              "        vertical-align: middle;\n",
              "    }\n",
              "\n",
              "    .dataframe tbody tr th {\n",
              "        vertical-align: top;\n",
              "    }\n",
              "\n",
              "    .dataframe thead th {\n",
              "        text-align: right;\n",
              "    }\n",
              "</style>\n",
              "<table border=\"1\" class=\"dataframe\">\n",
              "  <thead>\n",
              "    <tr style=\"text-align: right;\">\n",
              "      <th></th>\n",
              "      <th>movieId</th>\n",
              "      <th>imdbId</th>\n",
              "      <th>tmdbId</th>\n",
              "    </tr>\n",
              "  </thead>\n",
              "  <tbody>\n",
              "    <tr>\n",
              "      <th>0</th>\n",
              "      <td>1</td>\n",
              "      <td>114709</td>\n",
              "      <td>862</td>\n",
              "    </tr>\n",
              "    <tr>\n",
              "      <th>1</th>\n",
              "      <td>2</td>\n",
              "      <td>113497</td>\n",
              "      <td>8844</td>\n",
              "    </tr>\n",
              "    <tr>\n",
              "      <th>2</th>\n",
              "      <td>3</td>\n",
              "      <td>113228</td>\n",
              "      <td>15602</td>\n",
              "    </tr>\n",
              "    <tr>\n",
              "      <th>3</th>\n",
              "      <td>4</td>\n",
              "      <td>114885</td>\n",
              "      <td>31357</td>\n",
              "    </tr>\n",
              "    <tr>\n",
              "      <th>4</th>\n",
              "      <td>5</td>\n",
              "      <td>113041</td>\n",
              "      <td>11862</td>\n",
              "    </tr>\n",
              "  </tbody>\n",
              "</table>\n",
              "</div>"
            ],
            "text/plain": [
              "   movieId  imdbId  tmdbId\n",
              "0        1  114709     862\n",
              "1        2  113497    8844\n",
              "2        3  113228   15602\n",
              "3        4  114885   31357\n",
              "4        5  113041   11862"
            ]
          },
          "metadata": {
            "tags": []
          },
          "execution_count": 120
        }
      ]
    },
    {
      "cell_type": "code",
      "metadata": {
        "colab": {
          "base_uri": "https://localhost:8080/",
          "height": 198
        },
        "id": "BYZLwU44Kw7Y",
        "outputId": "fad37e21-e839-4e4d-a15f-54f4ada5873e"
      },
      "source": [
        "ratings_tmdb = pd.merge(ratings, links, on = 'movieId')\n",
        "#ratings_tmdb.tmdbId = ratings_tmdb.tmdbId.astype(int)\n",
        "ratings_tmdb.head()"
      ],
      "execution_count": 121,
      "outputs": [
        {
          "output_type": "execute_result",
          "data": {
            "text/html": [
              "<div>\n",
              "<style scoped>\n",
              "    .dataframe tbody tr th:only-of-type {\n",
              "        vertical-align: middle;\n",
              "    }\n",
              "\n",
              "    .dataframe tbody tr th {\n",
              "        vertical-align: top;\n",
              "    }\n",
              "\n",
              "    .dataframe thead th {\n",
              "        text-align: right;\n",
              "    }\n",
              "</style>\n",
              "<table border=\"1\" class=\"dataframe\">\n",
              "  <thead>\n",
              "    <tr style=\"text-align: right;\">\n",
              "      <th></th>\n",
              "      <th>userId</th>\n",
              "      <th>movieId</th>\n",
              "      <th>rating</th>\n",
              "      <th>timestamp</th>\n",
              "      <th>imdbId</th>\n",
              "      <th>tmdbId</th>\n",
              "    </tr>\n",
              "  </thead>\n",
              "  <tbody>\n",
              "    <tr>\n",
              "      <th>0</th>\n",
              "      <td>1</td>\n",
              "      <td>1</td>\n",
              "      <td>4.0</td>\n",
              "      <td>964982703</td>\n",
              "      <td>114709</td>\n",
              "      <td>862</td>\n",
              "    </tr>\n",
              "    <tr>\n",
              "      <th>1</th>\n",
              "      <td>5</td>\n",
              "      <td>1</td>\n",
              "      <td>4.0</td>\n",
              "      <td>847434962</td>\n",
              "      <td>114709</td>\n",
              "      <td>862</td>\n",
              "    </tr>\n",
              "    <tr>\n",
              "      <th>2</th>\n",
              "      <td>7</td>\n",
              "      <td>1</td>\n",
              "      <td>4.5</td>\n",
              "      <td>1106635946</td>\n",
              "      <td>114709</td>\n",
              "      <td>862</td>\n",
              "    </tr>\n",
              "    <tr>\n",
              "      <th>3</th>\n",
              "      <td>15</td>\n",
              "      <td>1</td>\n",
              "      <td>2.5</td>\n",
              "      <td>1510577970</td>\n",
              "      <td>114709</td>\n",
              "      <td>862</td>\n",
              "    </tr>\n",
              "    <tr>\n",
              "      <th>4</th>\n",
              "      <td>17</td>\n",
              "      <td>1</td>\n",
              "      <td>4.5</td>\n",
              "      <td>1305696483</td>\n",
              "      <td>114709</td>\n",
              "      <td>862</td>\n",
              "    </tr>\n",
              "  </tbody>\n",
              "</table>\n",
              "</div>"
            ],
            "text/plain": [
              "   userId  movieId  rating   timestamp  imdbId  tmdbId\n",
              "0       1        1     4.0   964982703  114709     862\n",
              "1       5        1     4.0   847434962  114709     862\n",
              "2       7        1     4.5  1106635946  114709     862\n",
              "3      15        1     2.5  1510577970  114709     862\n",
              "4      17        1     4.5  1305696483  114709     862"
            ]
          },
          "metadata": {
            "tags": []
          },
          "execution_count": 121
        }
      ]
    },
    {
      "cell_type": "code",
      "metadata": {
        "colab": {
          "base_uri": "https://localhost:8080/"
        },
        "id": "FBd46N8tm-Dw",
        "outputId": "9e405b74-d024-4b0d-ca9a-085fb31dc2a6"
      },
      "source": [
        "ratings_final = ratings_tmdb[ratings_tmdb['tmdbId'].isin(content_df_tmdb['id'])].dropna()\n",
        "ratings_final.tmdbId.nunique()"
      ],
      "execution_count": 122,
      "outputs": [
        {
          "output_type": "execute_result",
          "data": {
            "text/plain": [
              "3535"
            ]
          },
          "metadata": {
            "tags": []
          },
          "execution_count": 122
        }
      ]
    },
    {
      "cell_type": "code",
      "metadata": {
        "colab": {
          "base_uri": "https://localhost:8080/"
        },
        "id": "DwAJL6rG7PQA",
        "outputId": "5d8d2ff1-a3ac-42e1-9fa8-520ae3b8264a"
      },
      "source": [
        "ratings_final.tmdbId.isnull().sum()"
      ],
      "execution_count": 123,
      "outputs": [
        {
          "output_type": "execute_result",
          "data": {
            "text/plain": [
              "0"
            ]
          },
          "metadata": {
            "tags": []
          },
          "execution_count": 123
        }
      ]
    },
    {
      "cell_type": "code",
      "metadata": {
        "colab": {
          "base_uri": "https://localhost:8080/"
        },
        "id": "VhAmL0E54eOK",
        "outputId": "bbb052c0-6830-46ff-acb6-5c09352792c2"
      },
      "source": [
        "n_users = ratings_final.userId.unique().shape[0]\n",
        "#tmdb id koristim jer posle preko njega trazim po istom tmdb id iz content df-a\n",
        "#max da se ne resetuju tmdb id-evi jer se u ratingsima ponavljaju\n",
        "n_items = max(ratings_final.tmdbId)\n",
        "print ('Number of users: ', n_users, \", number of items: \", n_items)"
      ],
      "execution_count": 124,
      "outputs": [
        {
          "output_type": "stream",
          "text": [
            "Number of users:  610 , number of items:  376659\n"
          ],
          "name": "stdout"
        }
      ]
    },
    {
      "cell_type": "code",
      "metadata": {
        "id": "vLViCAYz5T8O"
      },
      "source": [
        "#matrica za racunanje slicnosti izmedju usera i itema\n",
        "data_matrix = np.zeros((n_users, n_items))\n",
        "for line in ratings_final.itertuples():\n",
        "    data_matrix[line[1]-1, line[6]-1] = line[3]"
      ],
      "execution_count": 125,
      "outputs": []
    },
    {
      "cell_type": "code",
      "metadata": {
        "id": "7oXFbCmJFcpV"
      },
      "source": [
        "indices_by_tmdb_id = pd.Series(content_df_tmdb.index,index = content_df_tmdb['id'])"
      ],
      "execution_count": 126,
      "outputs": []
    },
    {
      "cell_type": "code",
      "metadata": {
        "id": "Q1Lk0Fcjor63"
      },
      "source": [
        "def predict_rating(data_matrix, cosine_sim, user_id, title):\n",
        "    #provera da li je neki naslov koji nema u content df\n",
        "    if title not in indices_by_title: \n",
        "        print('movie with title: ' + title + ' is not found in content dataset')\n",
        "        return 0\n",
        "    i = indices_by_title[title]\n",
        "    rating = 0\n",
        "    similarity_sum = 0\n",
        "    #vraca listu tmdbId za filmove koje je user ocenio jer uzmem samo one koji nisu ocena nula - nonzero vraca indexe\n",
        "    rated_movies_for_user = data_matrix[user_id-1].nonzero()[0]\n",
        "    #srednja vrednost ocena za usera \n",
        "    #pitanje - da li uzeti samo ne-nula u obzir?\n",
        "    mean = data_matrix[user_id-1, :].mean()\n",
        "    \n",
        "    for rated_movie_id in rated_movies_for_user:\n",
        "      #za sad ovako, srediti zajedno sa ciscenjem datasetova\n",
        "      if (rated_movie_id+1 not in indices_by_tmdb_id):\n",
        "        continue\n",
        "      j = indices_by_tmdb_id[rated_movie_id+1]\n",
        "      rating += cosine_sim[i][j] * (data_matrix[user_id-1,rated_movie_id] - mean)\n",
        "      similarity_sum += cosine_sim[i][j]\n",
        "\n",
        "    if (similarity_sum != 0):\n",
        "      rating /= similarity_sum\n",
        "    rating += mean\n",
        "    return rating"
      ],
      "execution_count": 127,
      "outputs": []
    },
    {
      "cell_type": "code",
      "metadata": {
        "id": "UScztNfDo82P",
        "colab": {
          "base_uri": "https://localhost:8080/"
        },
        "outputId": "b5c9d592-adba-426f-eae3-56432ef35e0b"
      },
      "source": [
        "#ovo su userId i tmdbId prosledjeni\n",
        "predict_rating(data_matrix,cosine_sim,7,'Skyfall')"
      ],
      "execution_count": 128,
      "outputs": [
        {
          "output_type": "execute_result",
          "data": {
            "text/plain": [
              "3.285731601237582"
            ]
          },
          "metadata": {
            "tags": []
          },
          "execution_count": 128
        }
      ]
    },
    {
      "cell_type": "markdown",
      "metadata": {
        "id": "GQbJNV7kCsqz"
      },
      "source": [
        "TODO: dodati validaciju da bi videla kako predvidja"
      ]
    },
    {
      "cell_type": "markdown",
      "metadata": {
        "id": "9aU57ZRe-W6c"
      },
      "source": [
        "Treci recommender: collaborative, SVD iz biblioteke surprise"
      ]
    },
    {
      "cell_type": "code",
      "metadata": {
        "colab": {
          "base_uri": "https://localhost:8080/"
        },
        "id": "qN2jSqQiamEA",
        "outputId": "4934b3b0-d5da-47db-cdbf-11772cb52e6c"
      },
      "source": [
        "# installing surprise library\n",
        "!pip install surprise"
      ],
      "execution_count": 129,
      "outputs": [
        {
          "output_type": "stream",
          "text": [
            "Requirement already satisfied: surprise in /usr/local/lib/python3.7/dist-packages (0.1)\n",
            "Requirement already satisfied: scikit-surprise in /usr/local/lib/python3.7/dist-packages (from surprise) (1.1.1)\n",
            "Requirement already satisfied: numpy>=1.11.2 in /usr/local/lib/python3.7/dist-packages (from scikit-surprise->surprise) (1.19.5)\n",
            "Requirement already satisfied: joblib>=0.11 in /usr/local/lib/python3.7/dist-packages (from scikit-surprise->surprise) (1.0.1)\n",
            "Requirement already satisfied: scipy>=1.0.0 in /usr/local/lib/python3.7/dist-packages (from scikit-surprise->surprise) (1.4.1)\n",
            "Requirement already satisfied: six>=1.10.0 in /usr/local/lib/python3.7/dist-packages (from scikit-surprise->surprise) (1.15.0)\n"
          ],
          "name": "stdout"
        }
      ]
    },
    {
      "cell_type": "code",
      "metadata": {
        "id": "LVjmomazaqEO"
      },
      "source": [
        "from surprise import Reader, Dataset, SVD, accuracy\n",
        "from surprise.model_selection import train_test_split, cross_validate"
      ],
      "execution_count": 130,
      "outputs": []
    },
    {
      "cell_type": "code",
      "metadata": {
        "colab": {
          "base_uri": "https://localhost:8080/",
          "height": 198
        },
        "id": "Lcho8FcsfAuR",
        "outputId": "13f1a729-6ded-41b9-cc4d-5bfc432afaf8"
      },
      "source": [
        "ratings_final_filter = ratings_final[['userId','tmdbId','rating']]\n",
        "ratings_final_filter.head()"
      ],
      "execution_count": 131,
      "outputs": [
        {
          "output_type": "execute_result",
          "data": {
            "text/html": [
              "<div>\n",
              "<style scoped>\n",
              "    .dataframe tbody tr th:only-of-type {\n",
              "        vertical-align: middle;\n",
              "    }\n",
              "\n",
              "    .dataframe tbody tr th {\n",
              "        vertical-align: top;\n",
              "    }\n",
              "\n",
              "    .dataframe thead th {\n",
              "        text-align: right;\n",
              "    }\n",
              "</style>\n",
              "<table border=\"1\" class=\"dataframe\">\n",
              "  <thead>\n",
              "    <tr style=\"text-align: right;\">\n",
              "      <th></th>\n",
              "      <th>userId</th>\n",
              "      <th>tmdbId</th>\n",
              "      <th>rating</th>\n",
              "    </tr>\n",
              "  </thead>\n",
              "  <tbody>\n",
              "    <tr>\n",
              "      <th>0</th>\n",
              "      <td>1</td>\n",
              "      <td>862</td>\n",
              "      <td>4.0</td>\n",
              "    </tr>\n",
              "    <tr>\n",
              "      <th>1</th>\n",
              "      <td>5</td>\n",
              "      <td>862</td>\n",
              "      <td>4.0</td>\n",
              "    </tr>\n",
              "    <tr>\n",
              "      <th>2</th>\n",
              "      <td>7</td>\n",
              "      <td>862</td>\n",
              "      <td>4.5</td>\n",
              "    </tr>\n",
              "    <tr>\n",
              "      <th>3</th>\n",
              "      <td>15</td>\n",
              "      <td>862</td>\n",
              "      <td>2.5</td>\n",
              "    </tr>\n",
              "    <tr>\n",
              "      <th>4</th>\n",
              "      <td>17</td>\n",
              "      <td>862</td>\n",
              "      <td>4.5</td>\n",
              "    </tr>\n",
              "  </tbody>\n",
              "</table>\n",
              "</div>"
            ],
            "text/plain": [
              "   userId  tmdbId  rating\n",
              "0       1     862     4.0\n",
              "1       5     862     4.0\n",
              "2       7     862     4.5\n",
              "3      15     862     2.5\n",
              "4      17     862     4.5"
            ]
          },
          "metadata": {
            "tags": []
          },
          "execution_count": 131
        }
      ]
    },
    {
      "cell_type": "code",
      "metadata": {
        "id": "O9cJ3JGXasDc"
      },
      "source": [
        "reader = Reader()\n",
        "data = Dataset.load_from_df(ratings_final_filter, reader)"
      ],
      "execution_count": 132,
      "outputs": []
    },
    {
      "cell_type": "code",
      "metadata": {
        "colab": {
          "base_uri": "https://localhost:8080/"
        },
        "id": "Kbpwq26havef",
        "outputId": "105b3688-d54e-414e-ac08-765c9e721628"
      },
      "source": [
        "svd = SVD()\n",
        "cross_validate(svd, data, measures=['RMSE', 'mae'], cv = 3)"
      ],
      "execution_count": 133,
      "outputs": [
        {
          "output_type": "execute_result",
          "data": {
            "text/plain": [
              "{'fit_time': (2.618328332901001, 2.6553003787994385, 2.621880292892456),\n",
              " 'test_mae': array([0.6710664 , 0.65794417, 0.6658366 ]),\n",
              " 'test_rmse': array([0.87447554, 0.85950393, 0.8688091 ]),\n",
              " 'test_time': (0.1729748249053955, 0.28830933570861816, 0.2373192310333252)}"
            ]
          },
          "metadata": {
            "tags": []
          },
          "execution_count": 133
        }
      ]
    },
    {
      "cell_type": "code",
      "metadata": {
        "colab": {
          "base_uri": "https://localhost:8080/"
        },
        "id": "197c6goZaxeD",
        "outputId": "110260f6-2bac-476f-873e-081d7917da02"
      },
      "source": [
        "trainset = data.build_full_trainset()\n",
        "svd.fit(trainset)"
      ],
      "execution_count": 134,
      "outputs": [
        {
          "output_type": "execute_result",
          "data": {
            "text/plain": [
              "<surprise.prediction_algorithms.matrix_factorization.SVD at 0x7febb5373790>"
            ]
          },
          "metadata": {
            "tags": []
          },
          "execution_count": 134
        }
      ]
    },
    {
      "cell_type": "code",
      "metadata": {
        "colab": {
          "base_uri": "https://localhost:8080/",
          "height": 198
        },
        "id": "-wPsjnm5DYl5",
        "outputId": "23faa1e6-81d4-4331-ddfe-c63d97e195a0"
      },
      "source": [
        "#par filmova koje je ocenio user 5 da bih poredila sa onim koje je predvideo svd\n",
        "ratings_final_filter[ratings_final_filter['userId'] == 5].head()"
      ],
      "execution_count": 135,
      "outputs": [
        {
          "output_type": "execute_result",
          "data": {
            "text/html": [
              "<div>\n",
              "<style scoped>\n",
              "    .dataframe tbody tr th:only-of-type {\n",
              "        vertical-align: middle;\n",
              "    }\n",
              "\n",
              "    .dataframe tbody tr th {\n",
              "        vertical-align: top;\n",
              "    }\n",
              "\n",
              "    .dataframe thead th {\n",
              "        text-align: right;\n",
              "    }\n",
              "</style>\n",
              "<table border=\"1\" class=\"dataframe\">\n",
              "  <thead>\n",
              "    <tr style=\"text-align: right;\">\n",
              "      <th></th>\n",
              "      <th>userId</th>\n",
              "      <th>tmdbId</th>\n",
              "      <th>rating</th>\n",
              "    </tr>\n",
              "  </thead>\n",
              "  <tbody>\n",
              "    <tr>\n",
              "      <th>1</th>\n",
              "      <td>5</td>\n",
              "      <td>862</td>\n",
              "      <td>4.0</td>\n",
              "    </tr>\n",
              "    <tr>\n",
              "      <th>573</th>\n",
              "      <td>5</td>\n",
              "      <td>629</td>\n",
              "      <td>4.0</td>\n",
              "    </tr>\n",
              "    <tr>\n",
              "      <th>855</th>\n",
              "      <td>5</td>\n",
              "      <td>197</td>\n",
              "      <td>4.0</td>\n",
              "    </tr>\n",
              "    <tr>\n",
              "      <th>1821</th>\n",
              "      <td>5</td>\n",
              "      <td>680</td>\n",
              "      <td>5.0</td>\n",
              "    </tr>\n",
              "    <tr>\n",
              "      <th>2317</th>\n",
              "      <td>5</td>\n",
              "      <td>9331</td>\n",
              "      <td>3.0</td>\n",
              "    </tr>\n",
              "  </tbody>\n",
              "</table>\n",
              "</div>"
            ],
            "text/plain": [
              "      userId  tmdbId  rating\n",
              "1          5     862     4.0\n",
              "573        5     629     4.0\n",
              "855        5     197     4.0\n",
              "1821       5     680     5.0\n",
              "2317       5    9331     3.0"
            ]
          },
          "metadata": {
            "tags": []
          },
          "execution_count": 135
        }
      ]
    },
    {
      "cell_type": "code",
      "metadata": {
        "colab": {
          "base_uri": "https://localhost:8080/"
        },
        "id": "t_g9VzYDa0H5",
        "outputId": "960da0dc-695d-4cdc-a35d-c216d1ee6654"
      },
      "source": [
        "print(svd.predict(5,862))\n",
        "print(svd.predict(5,629))\n",
        "print(svd.predict(5,197))\n",
        "print(svd.predict(5,680))\n",
        "print(svd.predict(5,9331))"
      ],
      "execution_count": 136,
      "outputs": [
        {
          "output_type": "stream",
          "text": [
            "user: 5          item: 862        r_ui = None   est = 3.79   {'was_impossible': False}\n",
            "user: 5          item: 629        r_ui = None   est = 4.23   {'was_impossible': False}\n",
            "user: 5          item: 197        r_ui = None   est = 3.94   {'was_impossible': False}\n",
            "user: 5          item: 680        r_ui = None   est = 4.26   {'was_impossible': False}\n",
            "user: 5          item: 9331       r_ui = None   est = 3.29   {'was_impossible': False}\n"
          ],
          "name": "stdout"
        }
      ]
    },
    {
      "cell_type": "code",
      "metadata": {
        "colab": {
          "base_uri": "https://localhost:8080/"
        },
        "id": "NiFfzRjIa3tT",
        "outputId": "8e77ec66-2014-4e3f-b389-e0dc06fb5e6f"
      },
      "source": [
        "trainset, testset = train_test_split(data, test_size=.25)\n",
        "algorithm = SVD()\n",
        "algorithm.fit(trainset)\n",
        "predictions = algorithm.test(testset)\n",
        "accuracy.rmse(predictions)"
      ],
      "execution_count": 137,
      "outputs": [
        {
          "output_type": "stream",
          "text": [
            "RMSE: 0.8659\n"
          ],
          "name": "stdout"
        },
        {
          "output_type": "execute_result",
          "data": {
            "text/plain": [
              "0.8659086676336254"
            ]
          },
          "metadata": {
            "tags": []
          },
          "execution_count": 137
        }
      ]
    },
    {
      "cell_type": "code",
      "metadata": {
        "id": "ap-5Vx-Li9Wr"
      },
      "source": [
        "tmdb_id_titles_dict = dict(zip(content_df_tmdb.id, content_df_tmdb.title))\n",
        "#tmdb_id_titles_dict"
      ],
      "execution_count": 138,
      "outputs": []
    },
    {
      "cell_type": "code",
      "metadata": {
        "id": "wWdJkNSkaYGZ"
      },
      "source": [
        "def get_top_10_svd(user_id):\n",
        "  estimated = []\n",
        "  for tmdb_id in ratings_final.tmdbId.unique():\n",
        "    estimate = svd.predict(user_id, tmdb_id).est\n",
        "    estimated.append((estimate,tmdb_id_titles_dict[tmdb_id]))\n",
        "\n",
        "  sorted_estimated = sorted(estimated, key=lambda tup: tup[0], reverse=True)\n",
        "  #sorted_estimated =  sorted(estimated, reverse=True)\n",
        "  return pd.DataFrame(sorted_estimated[1:11], columns=['rating','title'])"
      ],
      "execution_count": 139,
      "outputs": []
    },
    {
      "cell_type": "code",
      "metadata": {
        "colab": {
          "base_uri": "https://localhost:8080/",
          "height": 348
        },
        "id": "28UPM827diHr",
        "outputId": "342f50b5-cf84-4b72-d857-d42846cd0c5c"
      },
      "source": [
        "get_top_10_svd(13)"
      ],
      "execution_count": 140,
      "outputs": [
        {
          "output_type": "execute_result",
          "data": {
            "text/html": [
              "<div>\n",
              "<style scoped>\n",
              "    .dataframe tbody tr th:only-of-type {\n",
              "        vertical-align: middle;\n",
              "    }\n",
              "\n",
              "    .dataframe tbody tr th {\n",
              "        vertical-align: top;\n",
              "    }\n",
              "\n",
              "    .dataframe thead th {\n",
              "        text-align: right;\n",
              "    }\n",
              "</style>\n",
              "<table border=\"1\" class=\"dataframe\">\n",
              "  <thead>\n",
              "    <tr style=\"text-align: right;\">\n",
              "      <th></th>\n",
              "      <th>rating</th>\n",
              "      <th>title</th>\n",
              "    </tr>\n",
              "  </thead>\n",
              "  <tbody>\n",
              "    <tr>\n",
              "      <th>0</th>\n",
              "      <td>4.733464</td>\n",
              "      <td>Pulp Fiction</td>\n",
              "    </tr>\n",
              "    <tr>\n",
              "      <th>1</th>\n",
              "      <td>4.711249</td>\n",
              "      <td>Memento</td>\n",
              "    </tr>\n",
              "    <tr>\n",
              "      <th>2</th>\n",
              "      <td>4.676909</td>\n",
              "      <td>The Matrix</td>\n",
              "    </tr>\n",
              "    <tr>\n",
              "      <th>3</th>\n",
              "      <td>4.670897</td>\n",
              "      <td>The Silence of the Lambs</td>\n",
              "    </tr>\n",
              "    <tr>\n",
              "      <th>4</th>\n",
              "      <td>4.629077</td>\n",
              "      <td>Star Wars</td>\n",
              "    </tr>\n",
              "    <tr>\n",
              "      <th>5</th>\n",
              "      <td>4.603147</td>\n",
              "      <td>Donnie Darko</td>\n",
              "    </tr>\n",
              "    <tr>\n",
              "      <th>6</th>\n",
              "      <td>4.579081</td>\n",
              "      <td>Billy Elliot</td>\n",
              "    </tr>\n",
              "    <tr>\n",
              "      <th>7</th>\n",
              "      <td>4.572185</td>\n",
              "      <td>Brazil</td>\n",
              "    </tr>\n",
              "    <tr>\n",
              "      <th>8</th>\n",
              "      <td>4.563815</td>\n",
              "      <td>Dr. Strangelove or: How I Learned to Stop Worr...</td>\n",
              "    </tr>\n",
              "    <tr>\n",
              "      <th>9</th>\n",
              "      <td>4.562050</td>\n",
              "      <td>Fight Club</td>\n",
              "    </tr>\n",
              "  </tbody>\n",
              "</table>\n",
              "</div>"
            ],
            "text/plain": [
              "     rating                                              title\n",
              "0  4.733464                                       Pulp Fiction\n",
              "1  4.711249                                            Memento\n",
              "2  4.676909                                         The Matrix\n",
              "3  4.670897                           The Silence of the Lambs\n",
              "4  4.629077                                          Star Wars\n",
              "5  4.603147                                       Donnie Darko\n",
              "6  4.579081                                       Billy Elliot\n",
              "7  4.572185                                             Brazil\n",
              "8  4.563815  Dr. Strangelove or: How I Learned to Stop Worr...\n",
              "9  4.562050                                         Fight Club"
            ]
          },
          "metadata": {
            "tags": []
          },
          "execution_count": 140
        }
      ]
    },
    {
      "cell_type": "code",
      "metadata": {
        "colab": {
          "base_uri": "https://localhost:8080/",
          "height": 348
        },
        "id": "wlD70FxdE0PX",
        "outputId": "7285f525-5e62-4630-c278-c430fa4c4dc2"
      },
      "source": [
        "get_top_10_svd(23)"
      ],
      "execution_count": 141,
      "outputs": [
        {
          "output_type": "execute_result",
          "data": {
            "text/html": [
              "<div>\n",
              "<style scoped>\n",
              "    .dataframe tbody tr th:only-of-type {\n",
              "        vertical-align: middle;\n",
              "    }\n",
              "\n",
              "    .dataframe tbody tr th {\n",
              "        vertical-align: top;\n",
              "    }\n",
              "\n",
              "    .dataframe thead th {\n",
              "        text-align: right;\n",
              "    }\n",
              "</style>\n",
              "<table border=\"1\" class=\"dataframe\">\n",
              "  <thead>\n",
              "    <tr style=\"text-align: right;\">\n",
              "      <th></th>\n",
              "      <th>rating</th>\n",
              "      <th>title</th>\n",
              "    </tr>\n",
              "  </thead>\n",
              "  <tbody>\n",
              "    <tr>\n",
              "      <th>0</th>\n",
              "      <td>4.016643</td>\n",
              "      <td>Das Boot</td>\n",
              "    </tr>\n",
              "    <tr>\n",
              "      <th>1</th>\n",
              "      <td>4.010401</td>\n",
              "      <td>Blade Runner</td>\n",
              "    </tr>\n",
              "    <tr>\n",
              "      <th>2</th>\n",
              "      <td>3.903826</td>\n",
              "      <td>Rosemary's Baby</td>\n",
              "    </tr>\n",
              "    <tr>\n",
              "      <th>3</th>\n",
              "      <td>3.899749</td>\n",
              "      <td>Patton</td>\n",
              "    </tr>\n",
              "    <tr>\n",
              "      <th>4</th>\n",
              "      <td>3.888418</td>\n",
              "      <td>The Great Escape</td>\n",
              "    </tr>\n",
              "    <tr>\n",
              "      <th>5</th>\n",
              "      <td>3.885602</td>\n",
              "      <td>Trainspotting</td>\n",
              "    </tr>\n",
              "    <tr>\n",
              "      <th>6</th>\n",
              "      <td>3.883966</td>\n",
              "      <td>The Green Mile</td>\n",
              "    </tr>\n",
              "    <tr>\n",
              "      <th>7</th>\n",
              "      <td>3.883699</td>\n",
              "      <td>Spotlight</td>\n",
              "    </tr>\n",
              "    <tr>\n",
              "      <th>8</th>\n",
              "      <td>3.875797</td>\n",
              "      <td>Eternal Sunshine of the Spotless Mind</td>\n",
              "    </tr>\n",
              "    <tr>\n",
              "      <th>9</th>\n",
              "      <td>3.863789</td>\n",
              "      <td>Spirited Away</td>\n",
              "    </tr>\n",
              "  </tbody>\n",
              "</table>\n",
              "</div>"
            ],
            "text/plain": [
              "     rating                                  title\n",
              "0  4.016643                               Das Boot\n",
              "1  4.010401                           Blade Runner\n",
              "2  3.903826                        Rosemary's Baby\n",
              "3  3.899749                                 Patton\n",
              "4  3.888418                       The Great Escape\n",
              "5  3.885602                          Trainspotting\n",
              "6  3.883966                         The Green Mile\n",
              "7  3.883699                              Spotlight\n",
              "8  3.875797  Eternal Sunshine of the Spotless Mind\n",
              "9  3.863789                          Spirited Away"
            ]
          },
          "metadata": {
            "tags": []
          },
          "execution_count": 141
        }
      ]
    },
    {
      "cell_type": "markdown",
      "metadata": {
        "id": "vmZVNPPzE6Nc"
      },
      "source": [
        "Treci recommender - ishod: za dva razlicita usera se dobiju razlicite preporuke za top 10 filmova, samo na osnovu svd predvidjanja za matricu usera i itema\n",
        "\n",
        "RMSE: 0.8619"
      ]
    },
    {
      "cell_type": "markdown",
      "metadata": {
        "id": "-vYqv1lhHVJj"
      },
      "source": [
        "Hibridni recommender: prvi pokusaj hibridnog modela - cosine_sim matrica + svd"
      ]
    },
    {
      "cell_type": "code",
      "metadata": {
        "id": "xWrcpJv9HgTi"
      },
      "source": [
        "def predict_hybrid(user_id, movie_title):\n",
        "    index = indices_by_title[movie_title] \n",
        "    sim_scores = list(enumerate(cosine_sim[index]))\n",
        "    sim_scores = sorted(sim_scores,key=lambda x: x[1],reverse=True) \n",
        "    sim_scores = sim_scores[1:101]\n",
        "    movie_indices = [score[0] for score in sim_scores]\n",
        "    movie_data_for_indices = content_df_tmdb.iloc[movie_indices]\n",
        "    movie_data_for_indices['est'] = movie_data_for_indices['id'].apply(lambda x: svd.predict(user_id, id).est)\n",
        "    movie_data_for_indices = movie_data_for_indices.sort_values('est', ascending=False)\n",
        "    return movie_data_for_indices.head(10)"
      ],
      "execution_count": 142,
      "outputs": []
    },
    {
      "cell_type": "code",
      "metadata": {
        "colab": {
          "base_uri": "https://localhost:8080/",
          "height": 457
        },
        "id": "kkKupKnuLUvm",
        "outputId": "34d8bc02-0c8a-42c6-9908-3ca5939e1867"
      },
      "source": [
        "predict_hybrid(5, 'Toy Story')"
      ],
      "execution_count": 143,
      "outputs": [
        {
          "output_type": "stream",
          "text": [
            "/usr/local/lib/python3.7/dist-packages/ipykernel_launcher.py:8: SettingWithCopyWarning: \n",
            "A value is trying to be set on a copy of a slice from a DataFrame.\n",
            "Try using .loc[row_indexer,col_indexer] = value instead\n",
            "\n",
            "See the caveats in the documentation: https://pandas.pydata.org/pandas-docs/stable/user_guide/indexing.html#returning-a-view-versus-a-copy\n",
            "  \n"
          ],
          "name": "stderr"
        },
        {
          "output_type": "execute_result",
          "data": {
            "text/html": [
              "<div>\n",
              "<style scoped>\n",
              "    .dataframe tbody tr th:only-of-type {\n",
              "        vertical-align: middle;\n",
              "    }\n",
              "\n",
              "    .dataframe tbody tr th {\n",
              "        vertical-align: top;\n",
              "    }\n",
              "\n",
              "    .dataframe thead th {\n",
              "        text-align: right;\n",
              "    }\n",
              "</style>\n",
              "<table border=\"1\" class=\"dataframe\">\n",
              "  <thead>\n",
              "    <tr style=\"text-align: right;\">\n",
              "      <th></th>\n",
              "      <th>level_0</th>\n",
              "      <th>index</th>\n",
              "      <th>id</th>\n",
              "      <th>title</th>\n",
              "      <th>word_document</th>\n",
              "      <th>est</th>\n",
              "    </tr>\n",
              "  </thead>\n",
              "  <tbody>\n",
              "    <tr>\n",
              "      <th>343</th>\n",
              "      <td>343</td>\n",
              "      <td>343</td>\n",
              "      <td>863</td>\n",
              "      <td>Toy Story 2</td>\n",
              "      <td>museum prosecution identity crisis airplane fl...</td>\n",
              "      <td>3.366144</td>\n",
              "    </tr>\n",
              "    <tr>\n",
              "      <th>889</th>\n",
              "      <td>889</td>\n",
              "      <td>889</td>\n",
              "      <td>8741</td>\n",
              "      <td>The Thin Red Line</td>\n",
              "      <td>based on novel japanese world war ii battle as...</td>\n",
              "      <td>3.366144</td>\n",
              "    </tr>\n",
              "    <tr>\n",
              "      <th>4138</th>\n",
              "      <td>4138</td>\n",
              "      <td>4138</td>\n",
              "      <td>115210</td>\n",
              "      <td>Stitches</td>\n",
              "      <td>slapstick teen angst slaughter dark comedy sup...</td>\n",
              "      <td>3.366144</td>\n",
              "    </tr>\n",
              "    <tr>\n",
              "      <th>915</th>\n",
              "      <td>915</td>\n",
              "      <td>915</td>\n",
              "      <td>9441</td>\n",
              "      <td>Stepmom</td>\n",
              "      <td>divorce rebellious daughter freeze frame custo...</td>\n",
              "      <td>3.366144</td>\n",
              "    </tr>\n",
              "    <tr>\n",
              "      <th>1494</th>\n",
              "      <td>1494</td>\n",
              "      <td>1494</td>\n",
              "      <td>10719</td>\n",
              "      <td>Elf</td>\n",
              "      <td>holiday elves santa claus looking for  birth p...</td>\n",
              "      <td>3.366144</td>\n",
              "    </tr>\n",
              "    <tr>\n",
              "      <th>1519</th>\n",
              "      <td>1519</td>\n",
              "      <td>1519</td>\n",
              "      <td>3587</td>\n",
              "      <td>Bogus</td>\n",
              "      <td>circus magic aunt imaginary friendRecently orp...</td>\n",
              "      <td>3.366144</td>\n",
              "    </tr>\n",
              "    <tr>\n",
              "      <th>3508</th>\n",
              "      <td>3508</td>\n",
              "      <td>3508</td>\n",
              "      <td>37206</td>\n",
              "      <td>A Shine of Rainbows</td>\n",
              "      <td>orphan rainbowAn orphaned boy named Tomás is a...</td>\n",
              "      <td>3.366144</td>\n",
              "    </tr>\n",
              "    <tr>\n",
              "      <th>197</th>\n",
              "      <td>197</td>\n",
              "      <td>197</td>\n",
              "      <td>671</td>\n",
              "      <td>Harry Potter and the Philosopher's Stone</td>\n",
              "      <td>witch christmas party magic cutting the cord h...</td>\n",
              "      <td>3.366144</td>\n",
              "    </tr>\n",
              "    <tr>\n",
              "      <th>837</th>\n",
              "      <td>837</td>\n",
              "      <td>837</td>\n",
              "      <td>175574</td>\n",
              "      <td>Free Birds</td>\n",
              "      <td>holiday thanksgiving freedom duringcreditsstin...</td>\n",
              "      <td>3.366144</td>\n",
              "    </tr>\n",
              "    <tr>\n",
              "      <th>2082</th>\n",
              "      <td>2082</td>\n",
              "      <td>2082</td>\n",
              "      <td>50780</td>\n",
              "      <td>The Beaver</td>\n",
              "      <td>puppet woman directorSuffering from a severe c...</td>\n",
              "      <td>3.366144</td>\n",
              "    </tr>\n",
              "  </tbody>\n",
              "</table>\n",
              "</div>"
            ],
            "text/plain": [
              "      level_0  ...       est\n",
              "343       343  ...  3.366144\n",
              "889       889  ...  3.366144\n",
              "4138     4138  ...  3.366144\n",
              "915       915  ...  3.366144\n",
              "1494     1494  ...  3.366144\n",
              "1519     1519  ...  3.366144\n",
              "3508     3508  ...  3.366144\n",
              "197       197  ...  3.366144\n",
              "837       837  ...  3.366144\n",
              "2082     2082  ...  3.366144\n",
              "\n",
              "[10 rows x 6 columns]"
            ]
          },
          "metadata": {
            "tags": []
          },
          "execution_count": 143
        }
      ]
    },
    {
      "cell_type": "code",
      "metadata": {
        "colab": {
          "base_uri": "https://localhost:8080/",
          "height": 457
        },
        "id": "zt7meRr9Qiak",
        "outputId": "847223d3-6384-4b6e-b4a7-07296972ea1c"
      },
      "source": [
        "predict_hybrid(7, 'Toy Story')"
      ],
      "execution_count": 144,
      "outputs": [
        {
          "output_type": "stream",
          "text": [
            "/usr/local/lib/python3.7/dist-packages/ipykernel_launcher.py:8: SettingWithCopyWarning: \n",
            "A value is trying to be set on a copy of a slice from a DataFrame.\n",
            "Try using .loc[row_indexer,col_indexer] = value instead\n",
            "\n",
            "See the caveats in the documentation: https://pandas.pydata.org/pandas-docs/stable/user_guide/indexing.html#returning-a-view-versus-a-copy\n",
            "  \n"
          ],
          "name": "stderr"
        },
        {
          "output_type": "execute_result",
          "data": {
            "text/html": [
              "<div>\n",
              "<style scoped>\n",
              "    .dataframe tbody tr th:only-of-type {\n",
              "        vertical-align: middle;\n",
              "    }\n",
              "\n",
              "    .dataframe tbody tr th {\n",
              "        vertical-align: top;\n",
              "    }\n",
              "\n",
              "    .dataframe thead th {\n",
              "        text-align: right;\n",
              "    }\n",
              "</style>\n",
              "<table border=\"1\" class=\"dataframe\">\n",
              "  <thead>\n",
              "    <tr style=\"text-align: right;\">\n",
              "      <th></th>\n",
              "      <th>level_0</th>\n",
              "      <th>index</th>\n",
              "      <th>id</th>\n",
              "      <th>title</th>\n",
              "      <th>word_document</th>\n",
              "      <th>est</th>\n",
              "    </tr>\n",
              "  </thead>\n",
              "  <tbody>\n",
              "    <tr>\n",
              "      <th>343</th>\n",
              "      <td>343</td>\n",
              "      <td>343</td>\n",
              "      <td>863</td>\n",
              "      <td>Toy Story 2</td>\n",
              "      <td>museum prosecution identity crisis airplane fl...</td>\n",
              "      <td>3.036044</td>\n",
              "    </tr>\n",
              "    <tr>\n",
              "      <th>889</th>\n",
              "      <td>889</td>\n",
              "      <td>889</td>\n",
              "      <td>8741</td>\n",
              "      <td>The Thin Red Line</td>\n",
              "      <td>based on novel japanese world war ii battle as...</td>\n",
              "      <td>3.036044</td>\n",
              "    </tr>\n",
              "    <tr>\n",
              "      <th>4138</th>\n",
              "      <td>4138</td>\n",
              "      <td>4138</td>\n",
              "      <td>115210</td>\n",
              "      <td>Stitches</td>\n",
              "      <td>slapstick teen angst slaughter dark comedy sup...</td>\n",
              "      <td>3.036044</td>\n",
              "    </tr>\n",
              "    <tr>\n",
              "      <th>915</th>\n",
              "      <td>915</td>\n",
              "      <td>915</td>\n",
              "      <td>9441</td>\n",
              "      <td>Stepmom</td>\n",
              "      <td>divorce rebellious daughter freeze frame custo...</td>\n",
              "      <td>3.036044</td>\n",
              "    </tr>\n",
              "    <tr>\n",
              "      <th>1494</th>\n",
              "      <td>1494</td>\n",
              "      <td>1494</td>\n",
              "      <td>10719</td>\n",
              "      <td>Elf</td>\n",
              "      <td>holiday elves santa claus looking for  birth p...</td>\n",
              "      <td>3.036044</td>\n",
              "    </tr>\n",
              "    <tr>\n",
              "      <th>1519</th>\n",
              "      <td>1519</td>\n",
              "      <td>1519</td>\n",
              "      <td>3587</td>\n",
              "      <td>Bogus</td>\n",
              "      <td>circus magic aunt imaginary friendRecently orp...</td>\n",
              "      <td>3.036044</td>\n",
              "    </tr>\n",
              "    <tr>\n",
              "      <th>3508</th>\n",
              "      <td>3508</td>\n",
              "      <td>3508</td>\n",
              "      <td>37206</td>\n",
              "      <td>A Shine of Rainbows</td>\n",
              "      <td>orphan rainbowAn orphaned boy named Tomás is a...</td>\n",
              "      <td>3.036044</td>\n",
              "    </tr>\n",
              "    <tr>\n",
              "      <th>197</th>\n",
              "      <td>197</td>\n",
              "      <td>197</td>\n",
              "      <td>671</td>\n",
              "      <td>Harry Potter and the Philosopher's Stone</td>\n",
              "      <td>witch christmas party magic cutting the cord h...</td>\n",
              "      <td>3.036044</td>\n",
              "    </tr>\n",
              "    <tr>\n",
              "      <th>837</th>\n",
              "      <td>837</td>\n",
              "      <td>837</td>\n",
              "      <td>175574</td>\n",
              "      <td>Free Birds</td>\n",
              "      <td>holiday thanksgiving freedom duringcreditsstin...</td>\n",
              "      <td>3.036044</td>\n",
              "    </tr>\n",
              "    <tr>\n",
              "      <th>2082</th>\n",
              "      <td>2082</td>\n",
              "      <td>2082</td>\n",
              "      <td>50780</td>\n",
              "      <td>The Beaver</td>\n",
              "      <td>puppet woman directorSuffering from a severe c...</td>\n",
              "      <td>3.036044</td>\n",
              "    </tr>\n",
              "  </tbody>\n",
              "</table>\n",
              "</div>"
            ],
            "text/plain": [
              "      level_0  ...       est\n",
              "343       343  ...  3.036044\n",
              "889       889  ...  3.036044\n",
              "4138     4138  ...  3.036044\n",
              "915       915  ...  3.036044\n",
              "1494     1494  ...  3.036044\n",
              "1519     1519  ...  3.036044\n",
              "3508     3508  ...  3.036044\n",
              "197       197  ...  3.036044\n",
              "837       837  ...  3.036044\n",
              "2082     2082  ...  3.036044\n",
              "\n",
              "[10 rows x 6 columns]"
            ]
          },
          "metadata": {
            "tags": []
          },
          "execution_count": 144
        }
      ]
    },
    {
      "cell_type": "markdown",
      "metadata": {
        "id": "5Zfh_nNGDnzH"
      },
      "source": [
        "TODO: Dodati preporuku po zanrovima, kao i popularnosti, za bolje rezultate u hibridnom modelu"
      ]
    }
  ]
}